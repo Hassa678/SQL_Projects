{
 "cells": [
  {
   "cell_type": "markdown",
   "id": "d053d771",
   "metadata": {},
   "source": [
    "## 1.creates a table matching your CSV structure (address, price, property_type)"
   ]
  },
  {
   "cell_type": "code",
   "execution_count": 7,
   "id": "934f1b3b",
   "metadata": {},
   "outputs": [
    {
     "name": "stdout",
     "output_type": "stream",
     "text": [
      "Defaulting to user installation because normal site-packages is not writeable\n",
      "Requirement already satisfied: ipython-sql in c:\\users\\taj hassane\\appdata\\roaming\\python\\python311\\site-packages (0.5.0)\n",
      "Requirement already satisfied: prettytable in c:\\users\\taj hassane\\appdata\\roaming\\python\\python311\\site-packages (from ipython-sql) (3.12.0)\n",
      "Requirement already satisfied: ipython in c:\\programdata\\anaconda3\\lib\\site-packages (from ipython-sql) (8.15.0)\n",
      "Requirement already satisfied: sqlalchemy>=2.0 in c:\\users\\taj hassane\\appdata\\roaming\\python\\python311\\site-packages (from ipython-sql) (2.0.36)\n",
      "Requirement already satisfied: sqlparse in c:\\users\\taj hassane\\appdata\\roaming\\python\\python311\\site-packages (from ipython-sql) (0.5.1)\n",
      "Requirement already satisfied: six in c:\\programdata\\anaconda3\\lib\\site-packages (from ipython-sql) (1.16.0)\n",
      "Requirement already satisfied: ipython-genutils in c:\\programdata\\anaconda3\\lib\\site-packages (from ipython-sql) (0.2.0)\n",
      "Requirement already satisfied: typing-extensions>=4.6.0 in c:\\users\\taj hassane\\appdata\\roaming\\python\\python311\\site-packages (from sqlalchemy>=2.0->ipython-sql) (4.12.2)\n",
      "Requirement already satisfied: greenlet!=0.4.17 in c:\\programdata\\anaconda3\\lib\\site-packages (from sqlalchemy>=2.0->ipython-sql) (2.0.1)\n",
      "Requirement already satisfied: backcall in c:\\programdata\\anaconda3\\lib\\site-packages (from ipython->ipython-sql) (0.2.0)\n",
      "Requirement already satisfied: decorator in c:\\programdata\\anaconda3\\lib\\site-packages (from ipython->ipython-sql) (5.1.1)\n",
      "Requirement already satisfied: jedi>=0.16 in c:\\programdata\\anaconda3\\lib\\site-packages (from ipython->ipython-sql) (0.18.1)\n",
      "Requirement already satisfied: matplotlib-inline in c:\\programdata\\anaconda3\\lib\\site-packages (from ipython->ipython-sql) (0.1.6)\n",
      "Requirement already satisfied: pickleshare in c:\\programdata\\anaconda3\\lib\\site-packages (from ipython->ipython-sql) (0.7.5)\n",
      "Requirement already satisfied: prompt-toolkit!=3.0.37,<3.1.0,>=3.0.30 in c:\\programdata\\anaconda3\\lib\\site-packages (from ipython->ipython-sql) (3.0.36)\n",
      "Requirement already satisfied: pygments>=2.4.0 in c:\\programdata\\anaconda3\\lib\\site-packages (from ipython->ipython-sql) (2.15.1)\n",
      "Requirement already satisfied: stack-data in c:\\programdata\\anaconda3\\lib\\site-packages (from ipython->ipython-sql) (0.2.0)\n",
      "Requirement already satisfied: traitlets>=5 in c:\\programdata\\anaconda3\\lib\\site-packages (from ipython->ipython-sql) (5.7.1)\n",
      "Requirement already satisfied: colorama in c:\\programdata\\anaconda3\\lib\\site-packages (from ipython->ipython-sql) (0.4.6)\n",
      "Requirement already satisfied: wcwidth in c:\\programdata\\anaconda3\\lib\\site-packages (from prettytable->ipython-sql) (0.2.5)\n",
      "Requirement already satisfied: parso<0.9.0,>=0.8.0 in c:\\programdata\\anaconda3\\lib\\site-packages (from jedi>=0.16->ipython->ipython-sql) (0.8.3)\n",
      "Requirement already satisfied: executing in c:\\programdata\\anaconda3\\lib\\site-packages (from stack-data->ipython->ipython-sql) (0.8.3)\n",
      "Requirement already satisfied: asttokens in c:\\programdata\\anaconda3\\lib\\site-packages (from stack-data->ipython->ipython-sql) (2.0.5)\n",
      "Requirement already satisfied: pure-eval in c:\\programdata\\anaconda3\\lib\\site-packages (from stack-data->ipython->ipython-sql) (0.2.2)\n",
      "The sql extension is already loaded. To reload it, use:\n",
      "  %reload_ext sql\n"
     ]
    }
   ],
   "source": [
    "# Install SQL magic if not already installed\n",
    "!pip install ipython-sql\n",
    "%load_ext sql\n",
    "\n",
    "# Connect to an SQLite database in memory\n",
    "%sql sqlite:///:memory:\n"
   ]
  },
  {
   "cell_type": "code",
   "execution_count": 2,
   "id": "659620e6",
   "metadata": {},
   "outputs": [
    {
     "name": "stdout",
     "output_type": "stream",
     "text": [
      " * sqlite:///:memory:\n",
      "Done.\n"
     ]
    },
    {
     "data": {
      "text/plain": [
       "[]"
      ]
     },
     "execution_count": 2,
     "metadata": {},
     "output_type": "execute_result"
    }
   ],
   "source": [
    "%%sql\n",
    "CREATE TABLE properties (\n",
    "    address VARCHAR(255),\n",
    "    price VARCHAR(50),\n",
    "    property_type VARCHAR(50)\n",
    ");\n"
   ]
  },
  {
   "cell_type": "code",
   "execution_count": 3,
   "id": "d0027900",
   "metadata": {},
   "outputs": [
    {
     "data": {
      "text/plain": [
       "850"
      ]
     },
     "execution_count": 3,
     "metadata": {},
     "output_type": "execute_result"
    }
   ],
   "source": [
    "import pandas as pd\n",
    "from sqlalchemy import create_engine\n",
    "\n",
    "# Read the CSV file into a DataFrame\n",
    "df = pd.read_csv('database/combined_database.csv')\n",
    "\n",
    "# Create SQLite engine and use the same in-memory database\n",
    "engine = create_engine('sqlite:///:memory:')\n",
    "\n",
    "# Load data into the SQL table\n",
    "df.to_sql('properties', con=engine, if_exists='replace', index=False)\n"
   ]
  },
  {
   "cell_type": "markdown",
   "id": "955f5c6a",
   "metadata": {},
   "source": [
    "## Total number of properties"
   ]
  },
  {
   "cell_type": "code",
   "execution_count": 23,
   "id": "65c877a5",
   "metadata": {},
   "outputs": [
    {
     "name": "stdout",
     "output_type": "stream",
     "text": [
      "   total_properties\n",
      "0               850\n"
     ]
    }
   ],
   "source": [
    "query_result = pd.read_sql('SELECT COUNT(*) AS total_properties FROM properties;', con=engine)\n",
    "print(query_result)\n"
   ]
  },
  {
   "cell_type": "markdown",
   "id": "8633cf12",
   "metadata": {},
   "source": [
    "## Show first 5 properties"
   ]
  },
  {
   "cell_type": "code",
   "execution_count": 6,
   "id": "5e7c3c62",
   "metadata": {},
   "outputs": [
    {
     "name": "stdout",
     "output_type": "stream",
     "text": [
      "                                             Address       Price Property Type\n",
      "0  Flat 102b, Larch Court 2, Royal Oak Yard, Lond...    £550,000          Flat\n",
      "1  Flat 202, Block C, 27, Green Walk, London, Gre...    £810,000          Flat\n",
      "2  Apartment 1111, 55, Upper Ground, London, Grea...    £800,000          Flat\n",
      "3  Flat 68, Globe View House, 27, Pocock Street, ...    £165,000          Flat\n",
      "4  Apartment 603, Western Building, 3, Triptych P...  £1,055,000          Flat\n"
     ]
    }
   ],
   "source": [
    "import pandas as pd\n",
    "\n",
    "# Query data using pandas\n",
    "query_result = pd.read_sql('SELECT * FROM properties LIMIT 5;', con=engine)\n",
    "print(query_result)\n"
   ]
  },
  {
   "cell_type": "markdown",
   "id": "9cb551a5",
   "metadata": {},
   "source": [
    "## Count properties by type"
   ]
  },
  {
   "cell_type": "code",
   "execution_count": 12,
   "id": "03a53bad",
   "metadata": {},
   "outputs": [
    {
     "name": "stdout",
     "output_type": "stream",
     "text": [
      "   Property Type  count\n",
      "0           Flat    637\n",
      "1           flat    162\n",
      "2       terraced     39\n",
      "3       Terraced      6\n",
      "4  semi-detached      3\n",
      "5  Semi-Detached      2\n",
      "6       detached      1\n"
     ]
    }
   ],
   "source": [
    "# -- Column names with spaces require special handling to avoid SQL errors.\n",
    "# -- In SQL, using spaces in column names can cause confusion, as SQL interprets spaces as separators.\n",
    "# -- To prevent this, we enclose column names with spaces in brackets ([ ]) for SQLite and SQL Server,\n",
    "# -- or double quotes (\" \") for MySQL, PostgreSQL, and Oracle.\n",
    "# -- For example: [Property Type] or \"Property Type\"\n",
    "# Query data using pandas\n",
    "query_result = pd.read_sql(\"\"\"\n",
    "    SELECT \n",
    "        [Property Type],\n",
    "        COUNT(*) as count\n",
    "    FROM properties\n",
    "    GROUP BY [Property Type]\n",
    "    ORDER BY count DESC;\n",
    "\"\"\", con=engine)\n",
    "\n",
    "# Display the result\n",
    "print(query_result)\n"
   ]
  },
  {
   "cell_type": "markdown",
   "id": "ff7112b2",
   "metadata": {},
   "source": [
    "## Find most expensive property"
   ]
  },
  {
   "cell_type": "code",
   "execution_count": 15,
   "id": "11a0daad",
   "metadata": {},
   "outputs": [
    {
     "name": "stdout",
     "output_type": "stream",
     "text": [
      "                                             Address     Price Property Type\n",
      "0  Flat 2508, 8, Casson Square, London, Greater L...  £998,000          Flat\n"
     ]
    }
   ],
   "source": [
    "query_result = pd.read_sql(\"\"\"\n",
    "SELECT *\n",
    "FROM properties\n",
    "ORDER BY REPLACE(REPLACE(price, '£', ''), ',', '') DESC\n",
    "LIMIT 1;\"\"\", con=engine)\n",
    "\n",
    "# Display the result\n",
    "print(query_result)"
   ]
  },
  {
   "cell_type": "markdown",
   "id": "99fdc2bf",
   "metadata": {},
   "source": [
    "## Average price by property type"
   ]
  },
  {
   "cell_type": "code",
   "execution_count": 18,
   "id": "0d6f3f33",
   "metadata": {},
   "outputs": [
    {
     "name": "stdout",
     "output_type": "stream",
     "text": [
      "   Property Type  average_price\n",
      "0  semi-detached  £1,524,166.67\n",
      "1       terraced  £1,367,571.79\n",
      "2       Terraced  £1,263,089.00\n",
      "3       detached  £1,250,000.00\n",
      "4  Semi-Detached  £1,215,000.00\n",
      "5           Flat    £858,582.66\n",
      "6           flat    £514,378.56\n"
     ]
    }
   ],
   "source": [
    "# Execute the SQL query and format average_price as currency\n",
    "query_result = pd.read_sql(\"\"\"\n",
    "    SELECT \n",
    "        [Property Type],\n",
    "        AVG(REPLACE(REPLACE(price, '£', ''), ',', '')) as average_price\n",
    "    FROM properties\n",
    "    GROUP BY [Property Type]\n",
    "    ORDER BY average_price DESC;\n",
    "\"\"\", con=engine)\n",
    "\n",
    "# Format the average_price as currency with commas\n",
    "query_result['average_price'] = query_result['average_price'].apply(lambda x: f\"£{x:,.2f}\")\n",
    "\n",
    "# Display the result\n",
    "print(query_result)"
   ]
  },
  {
   "cell_type": "markdown",
   "id": "31696f5c",
   "metadata": {},
   "source": [
    "## Median price of all properties"
   ]
  },
  {
   "cell_type": "code",
   "execution_count": 22,
   "id": "095db317",
   "metadata": {},
   "outputs": [
    {
     "name": "stdout",
     "output_type": "stream",
     "text": [
      "   median_price\n",
      "0      670000.0\n"
     ]
    }
   ],
   "source": [
    "query_result = pd.read_sql(\"\"\"\n",
    "    SELECT AVG(price_numeric) AS median_price\n",
    "    FROM (\n",
    "        SELECT CAST(REPLACE(REPLACE(price, '£', ''), ',', '') AS FLOAT) AS price_numeric\n",
    "        FROM properties\n",
    "        ORDER BY price_numeric\n",
    "        LIMIT 2 - (SELECT COUNT(*) FROM properties) % 2 -- Handles even/odd count\n",
    "        OFFSET (SELECT (COUNT(*) - 1) / 2 FROM properties)\n",
    "    );\n",
    "\"\"\", con=engine)\n",
    "\n",
    "\n",
    "print(query_result)\n"
   ]
  },
  {
   "cell_type": "markdown",
   "id": "de6c39d2",
   "metadata": {},
   "source": [
    "## Price distribution by ranges"
   ]
  },
  {
   "cell_type": "code",
   "execution_count": 24,
   "id": "f3a72c6a",
   "metadata": {},
   "outputs": [
    {
     "name": "stdout",
     "output_type": "stream",
     "text": [
      "   price_range  count\n",
      "0     Over £1M    172\n",
      "1  Under £500k    242\n",
      "2  £500k-£750k    263\n",
      "3    £750k-£1M    173\n"
     ]
    }
   ],
   "source": [
    "query_result = pd.read_sql(\"\"\"\n",
    "SELECT \n",
    "    CASE\n",
    "        WHEN CAST(REPLACE(REPLACE(price, '£', ''), ',', '') AS NUMERIC) <= 500000 THEN 'Under £500k'\n",
    "        WHEN CAST(REPLACE(REPLACE(price, '£', ''), ',', '') AS NUMERIC) <= 750000 THEN '£500k-£750k' \n",
    "        WHEN CAST(REPLACE(REPLACE(price, '£', ''), ',', '') AS NUMERIC) <= 1000000 THEN '£750k-£1M'\n",
    "        ELSE 'Over £1M'\n",
    "    END AS price_range,\n",
    "    COUNT(*) AS count\n",
    "FROM properties\n",
    "GROUP BY price_range\n",
    "ORDER BY price_range;\n",
    "\"\"\", con=engine)\n",
    "\n",
    "\n",
    "print(query_result)"
   ]
  },
  {
   "cell_type": "code",
   "execution_count": null,
   "id": "4ead3f40",
   "metadata": {},
   "outputs": [],
   "source": []
  }
 ],
 "metadata": {
  "kernelspec": {
   "display_name": "Python 3 (ipykernel)",
   "language": "python",
   "name": "python3"
  },
  "language_info": {
   "codemirror_mode": {
    "name": "ipython",
    "version": 3
   },
   "file_extension": ".py",
   "mimetype": "text/x-python",
   "name": "python",
   "nbconvert_exporter": "python",
   "pygments_lexer": "ipython3",
   "version": "3.11.5"
  }
 },
 "nbformat": 4,
 "nbformat_minor": 5
}
